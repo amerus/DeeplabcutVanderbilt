{
 "cells": [
  {
   "cell_type": "markdown",
   "metadata": {},
   "source": [
    "## Counting Labels of Deeplabcut"
   ]
  },
  {
   "cell_type": "code",
   "execution_count": 1,
   "metadata": {},
   "outputs": [
    {
     "data": {
      "application/javascript": [
       "IPython.OutputArea.prototype._should_scroll = function(lines) {\n",
       "    return false;\n",
       "}\n"
      ],
      "text/plain": [
       "<IPython.core.display.Javascript object>"
      ]
     },
     "metadata": {},
     "output_type": "display_data"
    }
   ],
   "source": [
    "%%javascript\n",
    "IPython.OutputArea.prototype._should_scroll = function(lines) {\n",
    "    return false;\n",
    "}"
   ]
  },
  {
   "cell_type": "code",
   "execution_count": 2,
   "metadata": {},
   "outputs": [],
   "source": [
    "import pandas as pd\n",
    "import numpy as np\n",
    "import warnings\n",
    "import matplotlib.pyplot as plt\n",
    "%matplotlib inline\n",
    "import os\n",
    "from pylab import rcParams\n",
    "import seaborn as sns\n",
    "rcParams['figure.figsize'] = 15, 10\n",
    "warnings.filterwarnings('ignore')"
   ]
  },
  {
   "cell_type": "code",
   "execution_count": 3,
   "metadata": {},
   "outputs": [],
   "source": [
    "projectPath='/home/motorns/Documents/work/hoffman/Gitlab/labeleddata/WhiteRabbit-Chrissy-2020-03-18'\n",
    "labelDirectory='labeled-data/chrissyproject'\n",
    "labelFile='CollectedData_Chrissy.csv'"
   ]
  },
  {
   "cell_type": "code",
   "execution_count": 4,
   "metadata": {},
   "outputs": [],
   "source": [
    "os.chdir(projectPath)"
   ]
  },
  {
   "cell_type": "markdown",
   "metadata": {},
   "source": [
    "### Loading the csv file and dropping bodyparts column with frame names"
   ]
  },
  {
   "cell_type": "code",
   "execution_count": 5,
   "metadata": {},
   "outputs": [],
   "source": [
    "labelResults = pd.read_csv(os.path.join(labelDirectory,labelFile),header=1)\n",
    "labelResults = labelResults.drop('bodyparts',axis=1)"
   ]
  },
  {
   "cell_type": "markdown",
   "metadata": {},
   "source": [
    "### Getting rid of repeat columns ending with .1 (for y axis). Melting the data frame so column names are rows. Finally, dropping na values for accurate value counts."
   ]
  },
  {
   "cell_type": "code",
   "execution_count": 6,
   "metadata": {},
   "outputs": [],
   "source": [
    "labelResults = labelResults.loc[:,~labelResults.columns.str.contains('.1')]\n",
    "timesLabeled = pd.melt(labelResults,value_name='xcoord',var_name='bodypart').dropna()"
   ]
  },
  {
   "cell_type": "markdown",
   "metadata": {},
   "source": [
    "### Generating the countplot with Seaborn."
   ]
  },
  {
   "cell_type": "code",
   "execution_count": 7,
   "metadata": {
    "scrolled": true
   },
   "outputs": [
    {
     "data": {
      "image/png": "[encoded data removed]",
      "text/plain": [
       "<Figure size 1080x720 with 1 Axes>"
      ]
     },
     "metadata": {
      "needs_background": "light"
     },
     "output_type": "display_data"
    }
   ],
   "source": [
    "plt.figure(figsize=(15,10));\n",
    "ax = sns.countplot(data=timesLabeled,y='bodypart',order=timesLabeled.bodypart.value_counts().index);\n",
    "xlength=timesLabeled.bodypart.value_counts().max()\n",
    "ax.set_title(\"Counting Labeled Body Parts\")\n",
    "ax.set_xlabel(\"Times Labeled\")\n",
    "ax.set_ylabel(\"Each Part\")\n",
    "ax.set_xticks(np.arange(0,xlength,step=20));\n",
    "plt.xlim(0,xlength);"
   ]
  },
  {
   "cell_type": "markdown",
   "metadata": {},
   "source": [
    "### Function to keep only most labeled body parts"
   ]
  },
  {
   "cell_type": "code",
   "execution_count": 8,
   "metadata": {},
   "outputs": [],
   "source": [
    "def keepLabels(meltedFrame, cutOff):\n",
    "    try:\n",
    "        qualityLabels = meltedFrame.groupby('bodypart').filter(lambda x: x['bodypart'].value_counts() > cutOff)['bodypart'].unique()\n",
    "    except:\n",
    "        return meltedFrame.groupby('bodypart')['bodypart'].head().unique().tolist()\n",
    "    return qualityLabels"
   ]
  },
  {
   "cell_type": "markdown",
   "metadata": {},
   "source": [
    "### Filtering out the names of the body parts labeled at least 215 times each"
   ]
  },
  {
   "cell_type": "code",
   "execution_count": 9,
   "metadata": {},
   "outputs": [],
   "source": [
    "toKeep = keepLabels(timesLabeled, 215)"
   ]
  },
  {
   "cell_type": "markdown",
   "metadata": {},
   "source": [
    "### Loading the original csv unmodified"
   ]
  },
  {
   "cell_type": "code",
   "execution_count": 12,
   "metadata": {},
   "outputs": [],
   "source": [
    "labels = pd.read_csv(os.path.join(labelDirectory,labelFile),header=None).reset_index().drop(\"index\",axis=1)"
   ]
  },
  {
   "cell_type": "markdown",
   "metadata": {},
   "source": [
    "### Getting the index of body parts matching the toKeep array"
   ]
  },
  {
   "cell_type": "code",
   "execution_count": 13,
   "metadata": {},
   "outputs": [
    {
     "data": {
      "text/html": [
       "<div>\n",
       "<style scoped>\n",
       "    .dataframe tbody tr th:only-of-type {\n",
       "        vertical-align: middle;\n",
       "    }\n",
       "\n",
       "    .dataframe tbody tr th {\n",
       "        vertical-align: top;\n",
       "    }\n",
       "\n",
       "    .dataframe thead th {\n",
       "        text-align: right;\n",
       "    }\n",
       "</style>\n",
       "<table border=\"1\" class=\"dataframe\">\n",
       "  <thead>\n",
       "    <tr style=\"text-align: right;\">\n",
       "      <th></th>\n",
       "      <th>0</th>\n",
       "      <th>1</th>\n",
       "      <th>2</th>\n",
       "      <th>3</th>\n",
       "      <th>4</th>\n",
       "      <th>5</th>\n",
       "      <th>6</th>\n",
       "      <th>7</th>\n",
       "      <th>8</th>\n",
       "      <th>9</th>\n",
       "      <th>...</th>\n",
       "      <th>21</th>\n",
       "      <th>22</th>\n",
       "      <th>23</th>\n",
       "      <th>24</th>\n",
       "      <th>25</th>\n",
       "      <th>26</th>\n",
       "      <th>27</th>\n",
       "      <th>28</th>\n",
       "      <th>29</th>\n",
       "      <th>30</th>\n",
       "    </tr>\n",
       "  </thead>\n",
       "  <tbody>\n",
       "    <tr>\n",
       "      <th>0</th>\n",
       "      <td>scorer</td>\n",
       "      <td>Chrissy</td>\n",
       "      <td>Chrissy</td>\n",
       "      <td>Chrissy</td>\n",
       "      <td>Chrissy</td>\n",
       "      <td>Chrissy</td>\n",
       "      <td>Chrissy</td>\n",
       "      <td>Chrissy</td>\n",
       "      <td>Chrissy</td>\n",
       "      <td>Chrissy</td>\n",
       "      <td>...</td>\n",
       "      <td>Chrissy</td>\n",
       "      <td>Chrissy</td>\n",
       "      <td>Chrissy</td>\n",
       "      <td>Chrissy</td>\n",
       "      <td>Chrissy</td>\n",
       "      <td>Chrissy</td>\n",
       "      <td>Chrissy</td>\n",
       "      <td>Chrissy</td>\n",
       "      <td>Chrissy</td>\n",
       "      <td>Chrissy</td>\n",
       "    </tr>\n",
       "    <tr>\n",
       "      <th>1</th>\n",
       "      <td>bodyparts</td>\n",
       "      <td>TopHead</td>\n",
       "      <td>TopHead</td>\n",
       "      <td>LeftWrist</td>\n",
       "      <td>LeftWrist</td>\n",
       "      <td>LeftEar</td>\n",
       "      <td>LeftEar</td>\n",
       "      <td>LeftMidKnkl</td>\n",
       "      <td>LeftMidKnkl</td>\n",
       "      <td>LtBrow</td>\n",
       "      <td>...</td>\n",
       "      <td>RightShoulder</td>\n",
       "      <td>RightShoulder</td>\n",
       "      <td>RightElbow</td>\n",
       "      <td>RightElbow</td>\n",
       "      <td>RightMidKnkl</td>\n",
       "      <td>RightMidKnkl</td>\n",
       "      <td>Nosetip</td>\n",
       "      <td>Nosetip</td>\n",
       "      <td>RtBrow</td>\n",
       "      <td>RtBrow</td>\n",
       "    </tr>\n",
       "    <tr>\n",
       "      <th>2</th>\n",
       "      <td>coords</td>\n",
       "      <td>x</td>\n",
       "      <td>y</td>\n",
       "      <td>x</td>\n",
       "      <td>y</td>\n",
       "      <td>x</td>\n",
       "      <td>y</td>\n",
       "      <td>x</td>\n",
       "      <td>y</td>\n",
       "      <td>x</td>\n",
       "      <td>...</td>\n",
       "      <td>x</td>\n",
       "      <td>y</td>\n",
       "      <td>x</td>\n",
       "      <td>y</td>\n",
       "      <td>x</td>\n",
       "      <td>y</td>\n",
       "      <td>x</td>\n",
       "      <td>y</td>\n",
       "      <td>x</td>\n",
       "      <td>y</td>\n",
       "    </tr>\n",
       "    <tr>\n",
       "      <th>3</th>\n",
       "      <td>labeled-data/chrissyproject/img00500.png</td>\n",
       "      <td>115.15876041502915</td>\n",
       "      <td>23.958949064612455</td>\n",
       "      <td>210.23815044804283</td>\n",
       "      <td>155.881602735419</td>\n",
       "      <td>172.99872268511248</td>\n",
       "      <td>13.65868181103599</td>\n",
       "      <td>217.36910470051888</td>\n",
       "      <td>171.7281677409213</td>\n",
       "      <td>141.3055926741079</td>\n",
       "      <td>...</td>\n",
       "      <td>84.2579586542997</td>\n",
       "      <td>59.61372032699259</td>\n",
       "      <td>81.4848097783368</td>\n",
       "      <td>95.26849158937276</td>\n",
       "      <td>NaN</td>\n",
       "      <td>NaN</td>\n",
       "      <td>115.15876041502915</td>\n",
       "      <td>64.36768982864328</td>\n",
       "      <td>89.01192815595039</td>\n",
       "      <td>39.40934994497718</td>\n",
       "    </tr>\n",
       "    <tr>\n",
       "      <th>4</th>\n",
       "      <td>labeled-data/chrissyproject/img00501.png</td>\n",
       "      <td>112.38561153906625</td>\n",
       "      <td>25.147441440025148</td>\n",
       "      <td>211.42664282345552</td>\n",
       "      <td>156.27776686055657</td>\n",
       "      <td>173.39488681025003</td>\n",
       "      <td>17.620323062411558</td>\n",
       "      <td>218.9537612010691</td>\n",
       "      <td>171.7281677409213</td>\n",
       "      <td>136.94778729759477</td>\n",
       "      <td>...</td>\n",
       "      <td>NaN</td>\n",
       "      <td>NaN</td>\n",
       "      <td>83.46563040402458</td>\n",
       "      <td>94.0799992139601</td>\n",
       "      <td>NaN</td>\n",
       "      <td>NaN</td>\n",
       "      <td>112.38561153906625</td>\n",
       "      <td>67.14083870460618</td>\n",
       "      <td>87.42727165540015</td>\n",
       "      <td>41.78633469580251</td>\n",
       "    </tr>\n",
       "  </tbody>\n",
       "</table>\n",
       "<p>5 rows × 31 columns</p>\n",
       "</div>"
      ],
      "text/plain": [
       "                                         0                   1   \\\n",
       "0                                    scorer             Chrissy   \n",
       "1                                 bodyparts             TopHead   \n",
       "2                                    coords                   x   \n",
       "3  labeled-data/chrissyproject/img00500.png  115.15876041502915   \n",
       "4  labeled-data/chrissyproject/img00501.png  112.38561153906625   \n",
       "\n",
       "                   2                   3                   4   \\\n",
       "0             Chrissy             Chrissy             Chrissy   \n",
       "1             TopHead           LeftWrist           LeftWrist   \n",
       "2                   y                   x                   y   \n",
       "3  23.958949064612455  210.23815044804283    155.881602735419   \n",
       "4  25.147441440025148  211.42664282345552  156.27776686055657   \n",
       "\n",
       "                   5                   6                   7   \\\n",
       "0             Chrissy             Chrissy             Chrissy   \n",
       "1             LeftEar             LeftEar         LeftMidKnkl   \n",
       "2                   x                   y                   x   \n",
       "3  172.99872268511248   13.65868181103599  217.36910470051888   \n",
       "4  173.39488681025003  17.620323062411558   218.9537612010691   \n",
       "\n",
       "                  8                   9   ...                21  \\\n",
       "0            Chrissy             Chrissy  ...           Chrissy   \n",
       "1        LeftMidKnkl              LtBrow  ...     RightShoulder   \n",
       "2                  y                   x  ...                 x   \n",
       "3  171.7281677409213   141.3055926741079  ...  84.2579586542997   \n",
       "4  171.7281677409213  136.94778729759477  ...               NaN   \n",
       "\n",
       "                  22                 23                 24            25  \\\n",
       "0            Chrissy            Chrissy            Chrissy       Chrissy   \n",
       "1      RightShoulder         RightElbow         RightElbow  RightMidKnkl   \n",
       "2                  y                  x                  y             x   \n",
       "3  59.61372032699259   81.4848097783368  95.26849158937276           NaN   \n",
       "4                NaN  83.46563040402458   94.0799992139601           NaN   \n",
       "\n",
       "             26                  27                 28                 29  \\\n",
       "0       Chrissy             Chrissy            Chrissy            Chrissy   \n",
       "1  RightMidKnkl             Nosetip            Nosetip             RtBrow   \n",
       "2             y                   x                  y                  x   \n",
       "3           NaN  115.15876041502915  64.36768982864328  89.01192815595039   \n",
       "4           NaN  112.38561153906625  67.14083870460618  87.42727165540015   \n",
       "\n",
       "                  30  \n",
       "0            Chrissy  \n",
       "1             RtBrow  \n",
       "2                  y  \n",
       "3  39.40934994497718  \n",
       "4  41.78633469580251  \n",
       "\n",
       "[5 rows x 31 columns]"
      ]
     },
     "execution_count": 13,
     "metadata": {},
     "output_type": "execute_result"
    }
   ],
   "source": [
    "labels.head()"
   ]
  },
  {
   "cell_type": "code",
   "execution_count": 14,
   "metadata": {},
   "outputs": [],
   "source": [
    "idx = np.where(labels.iloc[1].isin(toKeep))[0]"
   ]
  },
  {
   "cell_type": "markdown",
   "metadata": {},
   "source": [
    "### Re-inserting index 0, since Deeplabcut needs it for labels paths"
   ]
  },
  {
   "cell_type": "code",
   "execution_count": 15,
   "metadata": {},
   "outputs": [],
   "source": [
    "idx = list(np.insert(idx, 0, 0))"
   ]
  },
  {
   "cell_type": "code",
   "execution_count": 16,
   "metadata": {},
   "outputs": [
    {
     "name": "stdout",
     "output_type": "stream",
     "text": [
      "[0, 1, 2, 3, 4, 5, 6, 7, 8, 9, 10, 11, 12, 13, 14, 15, 16, 17, 18, 19, 20, 21, 22, 23, 24, 25, 26, 27, 28, 29, 30]\n"
     ]
    }
   ],
   "source": [
    "print(idx)"
   ]
  },
  {
   "cell_type": "markdown",
   "metadata": {},
   "source": [
    "### Subsetting the dataframe and writing back to the .csv file"
   ]
  },
  {
   "cell_type": "code",
   "execution_count": null,
   "metadata": {},
   "outputs": [],
   "source": [
    "labels = labels.loc[:,labels.columns.isin(idx)]"
   ]
  },
  {
   "cell_type": "code",
   "execution_count": null,
   "metadata": {},
   "outputs": [],
   "source": [
    "labels.to_csv(os.path.join(labelDirectory,labelFile),header=False,index=False)"
   ]
  },
  {
   "cell_type": "markdown",
   "metadata": {},
   "source": [
    "### Updating Deeplabcut .h5 files with the selected labels"
   ]
  },
  {
   "cell_type": "code",
   "execution_count": null,
   "metadata": {},
   "outputs": [],
   "source": [
    "import deeplabcut"
   ]
  },
  {
   "cell_type": "code",
   "execution_count": null,
   "metadata": {},
   "outputs": [],
   "source": [
    "deeplabcut.convertcsv2h5(os.path.join(projectPath,'config.yaml'))"
   ]
  }
 ],
 "metadata": {
  "kernelspec": {
   "display_name": "Python 3",
   "language": "python",
   "name": "python3"
  },
  "language_info": {
   "codemirror_mode": {
    "name": "ipython",
    "version": 3
   },
   "file_extension": ".py",
   "mimetype": "text/x-python",
   "name": "python",
   "nbconvert_exporter": "python",
   "pygments_lexer": "ipython3",
   "version": "3.6.10"
  }
 },
 "nbformat": 4,
 "nbformat_minor": 2
}
