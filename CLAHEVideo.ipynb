{
 "cells": [
  {
   "cell_type": "markdown",
   "metadata": {},
   "source": [
    "## Using OpenCV to Improve Video Quality with CLAHE Transformation and Sharpening"
   ]
  },
  {
   "cell_type": "code",
   "execution_count": 1,
   "metadata": {},
   "outputs": [],
   "source": [
    "import cv2\n",
    "import numpy as np\n",
    "import os"
   ]
  },
  {
   "cell_type": "markdown",
   "metadata": {},
   "source": [
    "### Setting system paths for the project, existing labels, and CSV file for the existing labels"
   ]
  },
  {
   "cell_type": "code",
   "execution_count": 2,
   "metadata": {},
   "outputs": [],
   "source": [
    "projectPath = '/home/motorns/Documents/work/hoffman/WhiteRabbit-Chrissy-2020-03-18'\n",
    "labeledDataPath = 'labeled-data/chrissyproject'\n",
    "csvLabels = 'CollectedData_Chrissy.csv'"
   ]
  },
  {
   "cell_type": "markdown",
   "metadata": {},
   "source": [
    "### Changing directory for the project"
   ]
  },
  {
   "cell_type": "code",
   "execution_count": 3,
   "metadata": {},
   "outputs": [],
   "source": [
    "os.chdir(projectPath)"
   ]
  },
  {
   "cell_type": "code",
   "execution_count": 4,
   "metadata": {},
   "outputs": [],
   "source": [
    "inputVideo=\"videos/chrissyproject.mp4\"\n",
    "outputVideo=\"videos/chrissyprojectCLAHE.mp4\""
   ]
  },
  {
   "cell_type": "code",
   "execution_count": 5,
   "metadata": {},
   "outputs": [],
   "source": [
    "cap = cv2.VideoCapture(inputVideo)"
   ]
  },
  {
   "cell_type": "markdown",
   "metadata": {},
   "source": [
    "### Getting properties of the original video, which can be used to write the modified version"
   ]
  },
  {
   "cell_type": "code",
   "execution_count": 6,
   "metadata": {},
   "outputs": [],
   "source": [
    "totalFrames = int(cap.get(cv2.CAP_PROP_FRAME_COUNT))\n",
    "width = int(cap.get(cv2.CAP_PROP_FRAME_WIDTH))\n",
    "height = int(cap.get(cv2.CAP_PROP_FRAME_HEIGHT))\n",
    "fps = cap.get(cv2.CAP_PROP_FPS)"
   ]
  },
  {
   "cell_type": "markdown",
   "metadata": {},
   "source": [
    "### Setting outputfile to be of MP4 format"
   ]
  },
  {
   "cell_type": "code",
   "execution_count": 7,
   "metadata": {},
   "outputs": [],
   "source": [
    "fourcc = cv2.VideoWriter_fourcc(*'mp4v')\n",
    "outVideo = cv2.VideoWriter(outputVideo, fourcc, fps, (width, height))"
   ]
  },
  {
   "cell_type": "markdown",
   "metadata": {},
   "source": [
    "### Creating CLAHE object"
   ]
  },
  {
   "cell_type": "code",
   "execution_count": 8,
   "metadata": {},
   "outputs": [],
   "source": [
    "clahe = cv2.createCLAHE(clipLimit=4.0, tileGridSize=(15,15))\n",
    "sharpen = np.array(([0,-1,0],[-1,5,-1],[0,-1,0]),dtype=\"int\")"
   ]
  },
  {
   "cell_type": "markdown",
   "metadata": {},
   "source": [
    "### Main function to apply CLAHE transformation and sharpening"
   ]
  },
  {
   "cell_type": "code",
   "execution_count": 9,
   "metadata": {},
   "outputs": [],
   "source": [
    "def claheSharpen(frame):\n",
    "    frame_hsv = cv2.cvtColor(frame,cv2.COLOR_BGR2HSV)\n",
    "    frame_hsv[:,:,2] = clahe.apply(frame_hsv[:,:,2])\n",
    "    imEqCLAHE = cv2.cvtColor(frame_hsv, cv2.COLOR_HSV2BGR)\n",
    "    sharpen_output = cv2.filter2D(imEqCLAHE,-1,sharpen)\n",
    "    return sharpen_output"
   ]
  },
  {
   "cell_type": "markdown",
   "metadata": {},
   "source": [
    "### Looping through the original video file, modifying each frame, and writing to the new mp4 (takes time to complete!)"
   ]
  },
  {
   "cell_type": "code",
   "execution_count": 10,
   "metadata": {},
   "outputs": [],
   "source": [
    "while(cap.isOpened()):\n",
    "    ret,frame = cap.read()\n",
    "    if(ret==True):\n",
    "        claheFrame = claheSharpen(frame)\n",
    "        outVideo.write(claheFrame)\n",
    "    else:\n",
    "        break"
   ]
  },
  {
   "cell_type": "code",
   "execution_count": 11,
   "metadata": {},
   "outputs": [],
   "source": [
    "outVideo.release()"
   ]
  },
  {
   "cell_type": "markdown",
   "metadata": {},
   "source": [
    "## Applying CLAHE function to the Already Labeled Frames to Match the Video"
   ]
  },
  {
   "cell_type": "code",
   "execution_count": 12,
   "metadata": {},
   "outputs": [],
   "source": [
    "import pandas as pd\n",
    "import re"
   ]
  },
  {
   "cell_type": "markdown",
   "metadata": {},
   "source": [
    "### Loading the labels CSV file"
   ]
  },
  {
   "cell_type": "code",
   "execution_count": 13,
   "metadata": {},
   "outputs": [],
   "source": [
    "labeledFramesFile = pd.read_csv(os.path.join(labeledDataPath, csvLabels))"
   ]
  },
  {
   "cell_type": "markdown",
   "metadata": {},
   "source": [
    "### Selecting filenames only and naming the column to imageName"
   ]
  },
  {
   "cell_type": "code",
   "execution_count": 14,
   "metadata": {},
   "outputs": [],
   "source": [
    "labeledFramesPath = labeledFramesFile.scorer.reset_index().iloc[labeledFramesFile.index > 1]\n",
    "labeledFramesPath = labeledFramesPath.scorer.rename(\"imageName\").reset_index()"
   ]
  },
  {
   "cell_type": "markdown",
   "metadata": {},
   "source": [
    "### Using regular expressions to pull out the original png file names and their 5-digit frame numbers"
   ]
  },
  {
   "cell_type": "code",
   "execution_count": 15,
   "metadata": {
    "scrolled": true
   },
   "outputs": [],
   "source": [
    "labeledFramesPath[\"imageName\"] = labeledFramesPath.imageName.apply(lambda x: x.split(\"\\\\\")[2])\n",
    "labeledFramesPath[\"imageNumber\"] = labeledFramesPath.imageName.apply(lambda x: int(re.search('\\d{5}', x).group(0)))\n",
    "labeledFramesPath.drop([\"index\"],axis=1,inplace=True)"
   ]
  },
  {
   "cell_type": "markdown",
   "metadata": {},
   "source": [
    "### Looping over the list of frames, pulling from the video, applying CLAHE function, and writing to the Deeplabcut location"
   ]
  },
  {
   "cell_type": "code",
   "execution_count": 16,
   "metadata": {},
   "outputs": [],
   "source": [
    "for index, name in labeledFramesPath.iterrows():\n",
    "    cap.set(1,name.imageNumber);\n",
    "    ret, frame = cap.read()\n",
    "    claheFrame = claheSharpen(frame)\n",
    "    cv2.imwrite(os.path.join(labeledDataPath, name.imageName),claheFrame)"
   ]
  }
 ],
 "metadata": {
  "kernelspec": {
   "display_name": "Python 3",
   "language": "python",
   "name": "python3"
  },
  "language_info": {
   "codemirror_mode": {
    "name": "ipython",
    "version": 3
   },
   "file_extension": ".py",
   "mimetype": "text/x-python",
   "name": "python",
   "nbconvert_exporter": "python",
   "pygments_lexer": "ipython3",
   "version": "3.6.8"
  }
 },
 "nbformat": 4,
 "nbformat_minor": 2
}
